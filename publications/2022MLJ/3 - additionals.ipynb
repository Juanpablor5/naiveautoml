{
 "cells": [
  {
   "cell_type": "code",
   "execution_count": 1,
   "metadata": {},
   "outputs": [],
   "source": [
    "import autosklearn.classification\n",
    "import sklearn.model_selection\n",
    "import sklearn.datasets\n",
    "import sklearn.metrics\n",
    "import openml\n",
    "import datetime\n",
    "\n",
    "import matplotlib.pyplot as plt\n",
    "\n",
    "import scipy as sp\n",
    "import scipy.stats\n",
    "import numpy as np\n",
    "import pandas as pd\n",
    "import itertools as it\n",
    "from tqdm.notebook import tqdm\n",
    "import pickle\n",
    "\n",
    "plt.rc('font', **{'family': 'serif', 'serif': ['Computer Modern']})\n",
    "plt.rc('text', usetex=True)"
   ]
  },
  {
   "cell_type": "markdown",
   "metadata": {},
   "source": [
    "# Preliminaries"
   ]
  },
  {
   "cell_type": "markdown",
   "metadata": {},
   "source": [
    "## Read Result Data"
   ]
  },
  {
   "cell_type": "code",
   "execution_count": 2,
   "metadata": {
    "scrolled": true
   },
   "outputs": [
    {
     "data": {
      "text/html": [
       "<div>\n",
       "<style scoped>\n",
       "    .dataframe tbody tr th:only-of-type {\n",
       "        vertical-align: middle;\n",
       "    }\n",
       "\n",
       "    .dataframe tbody tr th {\n",
       "        vertical-align: top;\n",
       "    }\n",
       "\n",
       "    .dataframe thead th {\n",
       "        text-align: right;\n",
       "    }\n",
       "</style>\n",
       "<table border=\"1\" class=\"dataframe\">\n",
       "  <thead>\n",
       "    <tr style=\"text-align: right;\">\n",
       "      <th></th>\n",
       "      <th>timeout</th>\n",
       "      <th>openmlid</th>\n",
       "      <th>seed</th>\n",
       "      <th>algorithm</th>\n",
       "      <th>metric</th>\n",
       "    </tr>\n",
       "  </thead>\n",
       "  <tbody>\n",
       "    <tr>\n",
       "      <th>0</th>\n",
       "      <td>85000</td>\n",
       "      <td>1485</td>\n",
       "      <td>0</td>\n",
       "      <td>rf</td>\n",
       "      <td>0.600788</td>\n",
       "    </tr>\n",
       "    <tr>\n",
       "      <th>1</th>\n",
       "      <td>85000</td>\n",
       "      <td>1485</td>\n",
       "      <td>0</td>\n",
       "      <td>random</td>\n",
       "      <td>0.373946</td>\n",
       "    </tr>\n",
       "    <tr>\n",
       "      <th>2</th>\n",
       "      <td>85000</td>\n",
       "      <td>1590</td>\n",
       "      <td>0</td>\n",
       "      <td>rf</td>\n",
       "      <td>0.570204</td>\n",
       "    </tr>\n",
       "    <tr>\n",
       "      <th>3</th>\n",
       "      <td>85000</td>\n",
       "      <td>1485</td>\n",
       "      <td>0</td>\n",
       "      <td>auto-sklearn</td>\n",
       "      <td>0.288015</td>\n",
       "    </tr>\n",
       "    <tr>\n",
       "      <th>4</th>\n",
       "      <td>85000</td>\n",
       "      <td>1590</td>\n",
       "      <td>0</td>\n",
       "      <td>random</td>\n",
       "      <td>0.358099</td>\n",
       "    </tr>\n",
       "    <tr>\n",
       "      <th>...</th>\n",
       "      <td>...</td>\n",
       "      <td>...</td>\n",
       "      <td>...</td>\n",
       "      <td>...</td>\n",
       "      <td>...</td>\n",
       "    </tr>\n",
       "    <tr>\n",
       "      <th>3420</th>\n",
       "      <td>85000</td>\n",
       "      <td>31</td>\n",
       "      <td>7</td>\n",
       "      <td>semi-naive</td>\n",
       "      <td>0.417230</td>\n",
       "    </tr>\n",
       "    <tr>\n",
       "      <th>3421</th>\n",
       "      <td>85000</td>\n",
       "      <td>40975</td>\n",
       "      <td>8</td>\n",
       "      <td>semi-naive</td>\n",
       "      <td>0.014152</td>\n",
       "    </tr>\n",
       "    <tr>\n",
       "      <th>3422</th>\n",
       "      <td>85000</td>\n",
       "      <td>31</td>\n",
       "      <td>8</td>\n",
       "      <td>naive</td>\n",
       "      <td>0.517943</td>\n",
       "    </tr>\n",
       "    <tr>\n",
       "      <th>3423</th>\n",
       "      <td>85000</td>\n",
       "      <td>31</td>\n",
       "      <td>8</td>\n",
       "      <td>semi-naive</td>\n",
       "      <td>0.623437</td>\n",
       "    </tr>\n",
       "    <tr>\n",
       "      <th>3424</th>\n",
       "      <td>85000</td>\n",
       "      <td>31</td>\n",
       "      <td>9</td>\n",
       "      <td>semi-naive</td>\n",
       "      <td>0.448005</td>\n",
       "    </tr>\n",
       "  </tbody>\n",
       "</table>\n",
       "<p>3425 rows × 5 columns</p>\n",
       "</div>"
      ],
      "text/plain": [
       "      timeout  openmlid  seed     algorithm    metric\n",
       "0       85000      1485     0            rf  0.600788\n",
       "1       85000      1485     0        random  0.373946\n",
       "2       85000      1590     0            rf  0.570204\n",
       "3       85000      1485     0  auto-sklearn  0.288015\n",
       "4       85000      1590     0        random  0.358099\n",
       "...       ...       ...   ...           ...       ...\n",
       "3420    85000        31     7    semi-naive  0.417230\n",
       "3421    85000     40975     8    semi-naive  0.014152\n",
       "3422    85000        31     8         naive  0.517943\n",
       "3423    85000        31     8    semi-naive  0.623437\n",
       "3424    85000        31     9    semi-naive  0.448005\n",
       "\n",
       "[3425 rows x 5 columns]"
      ]
     },
     "execution_count": 2,
     "metadata": {},
     "output_type": "execute_result"
    }
   ],
   "source": [
    "dfResults = pd.read_csv(\"results_final.csv\")\n",
    "dfResults"
   ]
  },
  {
   "cell_type": "markdown",
   "metadata": {},
   "source": [
    "## Compute metrics to be used for the different datasets"
   ]
  },
  {
   "cell_type": "code",
   "execution_count": 3,
   "metadata": {},
   "outputs": [],
   "source": [
    "OPTIMIZERS = [\"rf\", \"random\", \"auto-sklearn\", \"gama\", \"naive\", \"semi-naive\"]\n",
    "OPTIMIZER_COLORS = {\"rf\": \"C4\", \"random\": \"C5\", \"auto-sklearn\": \"C0\", \"gama\": \"C1\", \"naive\": \"C2\", \"semi-naive\": \"C3\"}\n",
    "OPTIMIZER_NAMES = {\"rf\": \"rf\", \"random\": \"random\", \"auto-sklearn\": \"auto-sklearn\", \"gama\": \"GAMA\", \"naive\": \"naive\", \"semi-naive\": \"quasi-naive\"}\n",
    "\n",
    "datasets = [int(i) for i in pd.unique(dfResults[\"openmlid\"])]"
   ]
  },
  {
   "cell_type": "code",
   "execution_count": 4,
   "metadata": {},
   "outputs": [],
   "source": [
    "with open('performancecurves.pickle', 'rb') as handle:\n",
    "    performance_curves_1d = pickle.load(handle)\n",
    "    \n",
    "TIME_LIMIT_HOUR = 3600\n",
    "TIME_LIMIT_DAY = 85000"
   ]
  },
  {
   "cell_type": "markdown",
   "metadata": {},
   "source": [
    "# Main Analysis"
   ]
  },
  {
   "cell_type": "code",
   "execution_count": 5,
   "metadata": {},
   "outputs": [],
   "source": [
    "def get_algos_and_times_for_curveset(curveset):\n",
    "    \n",
    "    # get all algorithms and times\n",
    "    algos = None\n",
    "    times = set([])\n",
    "    for openmlid, performance_curves_of_dataset in curveset.items():\n",
    "        algos_here = set(performance_curves_of_dataset.keys())\n",
    "        if algos is None:\n",
    "            algos = algos_here\n",
    "        elif algos != algos_here:\n",
    "            raise Exception(\"Inconsistent algorithm set! Current is \" + str(algos) + \" but local is \" + str(algos_here))\n",
    "        for curve in performance_curves_of_dataset.values():\n",
    "            if not \"times\" in curve:\n",
    "                print(f\"Empty curve set for dataset {openmlid}\")\n",
    "                continue\n",
    "            for t in curve[\"times\"]:\n",
    "                times.add(t)\n",
    "                \n",
    "    if algos is None:\n",
    "        raise Exception(f\"No algorithms observed in curveset {curveset}\")\n",
    "    times = sorted(list(times))\n",
    "    algos = sorted(list(algos))\n",
    "    return algos, times\n",
    "\n",
    "def get_relative_curves_per_dataset(performance_curves_per_dataset, baseline, max_loss_value = 10):\n",
    "    algos, times = get_algos_and_times_for_curveset(performance_curves_per_dataset)\n",
    "    cur_vals_per_dataset = {openmlid: {algo: np.inf for algo in algos} for openmlid in performance_curves_per_dataset.keys()}\n",
    "    \n",
    "    diff_curves = {openmlid: {algo: [] for algo in algos if algo != baseline} for openmlid in performance_curves_per_dataset.keys()}\n",
    "    \n",
    "    for t in tqdm(times):\n",
    "        for openmlid, performance_curves_of_dataset in performance_curves_per_dataset.items():\n",
    "            \n",
    "            # compute values of all curves at point of time\n",
    "            cur_vals = cur_vals_per_dataset[openmlid]\n",
    "            for algo in algos:\n",
    "                curve = performance_curves_of_dataset[algo]\n",
    "                if not \"times\" in curve:\n",
    "                    print(f\"Empty curve set for dataset {openmlid}\")\n",
    "                    continue\n",
    "                if t in curve[\"times\"]:\n",
    "                    index_of_timestamp = np.where(curve[\"times\"] == t)[0][0]\n",
    "                    val = min(max_loss_value, np.nanmedian(curve[\"values\"][index_of_timestamp], axis=0))\n",
    "                    if np.isnan(val):\n",
    "                        val = np.inf\n",
    "                    if val > cur_vals[algo]:\n",
    "                        raise Exception(f\"Would update value from {cur_vals[algo]} to {val}!\")\n",
    "                    cur_vals[algo] = val\n",
    "            \n",
    "            # now compare\n",
    "            base_val = cur_vals[baseline]\n",
    "            for algo in algos:\n",
    "                if algo != baseline:\n",
    "                    if base_val == np.inf:\n",
    "                        if cur_vals[algo] == np.inf:\n",
    "                            diff = 0\n",
    "                        else:\n",
    "                            diff = max_loss_value\n",
    "                    else:\n",
    "                        if cur_vals[algo] == np.inf:\n",
    "                            diff = max_loss_value\n",
    "                        else:\n",
    "                            diff = cur_vals[algo] - base_val\n",
    "                    diff_curves[openmlid][algo].append(diff)\n",
    "    \n",
    "    return {\"times\": times, \"algos\": algos, \"comparisons\": diff_curves}"
   ]
  },
  {
   "cell_type": "code",
   "execution_count": 6,
   "metadata": {},
   "outputs": [
    {
     "data": {
      "application/vnd.jupyter.widget-view+json": {
       "model_id": "235e802130424abba8fac318ef538014",
       "version_major": 2,
       "version_minor": 0
      },
      "text/plain": [
       "  0%|          | 0/18744 [00:00<?, ?it/s]"
      ]
     },
     "metadata": {},
     "output_type": "display_data"
    }
   ],
   "source": [
    "diff_curves = get_relative_curves_per_dataset(performance_curves_1d, \"semi-naive\", max_loss_value = 5)"
   ]
  },
  {
   "cell_type": "code",
   "execution_count": 7,
   "metadata": {},
   "outputs": [
    {
     "data": {
      "image/png": "[encoded data removed]",
      "text/plain": [
       "<Figure size 1080x216 with 1 Axes>"
      ]
     },
     "metadata": {
      "needs_background": "light"
     },
     "output_type": "display_data"
    }
   ],
   "source": [
    "comparison_summary = {algo: np.mean([diff_curves[\"comparisons\"][openmlid][algo] for openmlid in datasets if openmlid in diff_curves[\"comparisons\"]], axis=0) for algo in diff_curves[\"algos\"] if algo != \"semi-naive\"}\n",
    "\n",
    "fig, ax = plt.subplots(figsize=(15, 3))\n",
    "for comp in [\"auto-sklearn\", \"rf\", \"random\"]:\n",
    "    ax.plot(diff_curves[\"times\"], comparison_summary[comp], label=\"avg. advantage over \" + comp, color=OPTIMIZER_COLORS[comp])\n",
    "ax.axhline(0, linestyle=\"--\", color=\"black\", linewidth=1)\n",
    "ax.set_xscale(\"log\")\n",
    "ax.set_xlim([60, 86400])\n",
    "ax.set_ylim([-2, 2])\n",
    "ax.legend()\n",
    "ax.set_xlabel(\"time (s)\")\n",
    "ax.set_ylabel(\"diff in cross-entropy\")\n",
    "ax.axvline(600, linestyle=\"dotted\", color=\"black\", linewidth=1)\n",
    "ax.axvline(3600, linestyle=\"dotted\", color=\"black\", linewidth=1)\n",
    "fig.savefig(\"plots/advantages.jpg\", bbox_inches='tight')\n",
    "plt.show()"
   ]
  }
 ],
 "metadata": {
  "kernelspec": {
   "display_name": "Python 3",
   "language": "python",
   "name": "python3"
  },
  "language_info": {
   "codemirror_mode": {
    "name": "ipython",
    "version": 3
   },
   "file_extension": ".py",
   "mimetype": "text/x-python",
   "name": "python",
   "nbconvert_exporter": "python",
   "pygments_lexer": "ipython3",
   "version": "3.7.11"
  }
 },
 "nbformat": 4,
 "nbformat_minor": 4
}
