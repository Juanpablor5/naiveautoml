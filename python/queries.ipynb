{
 "cells": [
  {
   "cell_type": "markdown",
   "metadata": {},
   "source": [
    "# Queries\n",
    "## Resets\n",
    "### Clear Unfinished\n",
    "```sql\n",
    "UPDATE `icml2021` SET host = null, executor = null, time_started = null, chosenmodel = null, errorrate = null, exception = null, time_end = null WHERE `time_started` is not null and time_end is null\n",
    "```\n",
    "\n",
    "### Clear Failed With `NoSuchFileException`\n",
    "```sql\n",
    "UPDATE `icml2021` SET host = null, executor = null, time_started = null, chosenmodel = null, errorrate = null, exception = null, time_end = null WHERE `exception` LIKE '%NoSuchFileException%'\n",
    "```\n",
    "\n",
    "### Clear auto-sklearn\n",
    "```sql\n",
    "UPDATE icml2021 SET host = null, executor = null, time_started = null, chosenmodel = null, errorrate = null, exception = null, time_end = null WHERE algorithm = \"auto-sklearn\"\n",
    "```\n",
    "\n",
    "```sql\n",
    "UPDATE `icml2021` SET host = null, executor = null, time_started = null, chosenmodel = null, errorrate = null, exception = null, time_end = null WHERE (algorithm like '%python-scaling%' or algorithm like '%python-tuning%') and (`exception` LIKE '%NoSuchFileException%' or time_end is null)\n",
    "```\n",
    "\n",
    "## Progress\n",
    "```sql\n",
    "SELECT total, open, CONCAT(ROUND(100 * open / total, 2), \"%\") as \"open (rel)\", running, CONCAT(ROUND(100 * running / total, 2), \"%\") as \"running (rel)\", finished, CONCAT(ROUND(100 * finished / total, 2), \"%\") as \"finished (rel)\", successful, failed, CONCAT(ROUND(100 * successful / (successful + failed), 2), \"%\") as \"success rate\", CONCAT(ROUND(avgRuntimeFinished), \"s\") as \"Average Time of Finished\", CONCAT(ROUND(avgRuntimeFinished * open / running), \"s\") as \"ETA\" FROM (SELECT \"aux\" as pk, COUNT(*) as \"open\" FROM `icml2021` WHERE time_started is null) as t1 NATURAL JOIN (SELECT \"aux\" as pk, COUNT(*) as \"running\" FROM `icml2021` WHERE time_started is not null and time_end is null) as t2 NATURAL JOIN (SELECT \"aux\" as pk, COUNT(*) as finished, AVG(TIMESTAMPDIFF(SECOND, time_started, time_end)) as avgRuntimeFinished  FROM `icml2021` WHERE time_started is not null and time_end is not null) as t3 NATURAL JOIN (SELECT \"aux\" as pk, COUNT(*) as successful FROM `icml2021` where time_end is not null and exception is null) as t4 NATURAL JOIN (SELECT \"aux\" as pk, COUNT(*) as failed FROM `icml2021` where exception is not null) as t5 NATURAL JOIN (SELECT \"aux\" as pk, COUNT(*) as total FROM `icml2021`) as t6\n",
    "```\n",
    "\n",
    "\n",
    "## Select\n",
    "- `SELECT algorithm, openmlid, count(*), avg(errorrate), avg(timestampdiff(second, time_started, time_end)) FROM icml2021 where time_end is not null group by algorithm,openmlid`\n",
    "- `SELECT * FROM (SELECT openmlid, avg(errorrate) as \"auto-sklearn\", avg(timestampdiff(second, time_started, time_end)) FROM icml2021 where time_end is not null and algorithm = \"auto-sklearn\" group by openmlid) as t1 JOIN (SELECT openmlid, avg(errorrate) as \"naive\", avg(timestampdiff(second, time_started, time_end)) FROM icml2021 where time_end is not null and algorithm = \"naive\" group by openmlid) as t2 USING(openmlid)`\n",
    "\n"
   ]
  },
  {
   "cell_type": "code",
   "execution_count": 1,
   "metadata": {},
   "outputs": [
    {
     "name": "stdout",
     "output_type": "stream",
     "text": [
      "SELECT * FROM(SELECT openmlid, avg(errorrate) as \"naive-java-primitive\", avg(timestampdiff(second, time_started, time_end)) as \"avg_runtime_naive-java-primitive\", COUNT(*) as \"n_naive-java-primitive\" FROM icml2021 where time_end is not null and algorithm = \"naive-java-primitive\" group by openmlid) as t0 NATURAL JOIN (SELECT openmlid, avg(errorrate) as \"naive-java-preprocessing\", avg(timestampdiff(second, time_started, time_end)) as \"avg_runtime_naive-java-preprocessing\", COUNT(*) as \"n_naive-java-preprocessing\" FROM icml2021 where time_end is not null and algorithm = \"naive-java-preprocessing\" group by openmlid) as t1 NATURAL JOIN (SELECT openmlid, avg(errorrate) as \"auto-sklearn\", avg(timestampdiff(second, time_started, time_end)) as \"avg_runtime_auto-sklearn\", COUNT(*) as \"n_auto-sklearn\" FROM icml2021 where time_end is not null and algorithm = \"auto-sklearn\" group by openmlid) as t2 NATURAL JOIN (SELECT openmlid, avg(errorrate) as \"naive-python-primitive\", avg(timestampdiff(second, time_started, time_end)) as \"avg_runtime_naive-python-primitive\", COUNT(*) as \"n_naive-python-primitive\" FROM icml2021 where time_end is not null and algorithm = \"naive-python-primitive\" group by openmlid) as t3 NATURAL JOIN (SELECT openmlid, avg(errorrate) as \"naive-python-scaling\", avg(timestampdiff(second, time_started, time_end)) as \"avg_runtime_naive-python-scaling\", COUNT(*) as \"n_naive-python-scaling\" FROM icml2021 where time_end is not null and algorithm = \"naive-python-scaling\" group by openmlid) as t4 NATURAL JOIN (SELECT openmlid, avg(errorrate) as \"naive-python-filtering\", avg(timestampdiff(second, time_started, time_end)) as \"avg_runtime_naive-python-filtering\", COUNT(*) as \"n_naive-python-filtering\" FROM icml2021 where time_end is not null and algorithm = \"naive-python-filtering\" group by openmlid) as t5 NATURAL JOIN (SELECT openmlid, avg(errorrate) as \"naive-python-tuning\", avg(timestampdiff(second, time_started, time_end)) as \"avg_runtime_naive-python-tuning\", COUNT(*) as \"n_naive-python-tuning\" FROM icml2021 where time_end is not null and algorithm = \"naive-python-tuning\" group by openmlid) as t6\n"
     ]
    }
   ],
   "source": [
    "algos = [\"naive-java-primitive\", \"naive-java-preprocessing\"\n",
    "         #, \"naive-java-consolidated\"\n",
    "         ,\"auto-sklearn\",\n",
    "        \"naive-python-primitive\",\n",
    "        \"naive-python-scaling\",\n",
    "        \"naive-python-filtering\",\n",
    "        #\"naive-python-wrapping\",\n",
    "        \"naive-python-tuning\"\n",
    "        ]\n",
    "query = \"SELECT * FROM\"\n",
    "query += \" NATURAL JOIN \".join([(\"(SELECT openmlid, avg(errorrate) as \\\"\" + algo + \"\\\", avg(timestampdiff(second, time_started, time_end)) as \\\"avg_runtime_\" + algo + \"\\\", COUNT(*) as \\\"n_\" + algo + \"\\\" FROM icml2021 where time_end is not null and algorithm = \\\"\" + algo + \"\\\" group by openmlid) as t\" + str(i)) for i, algo in enumerate(algos)])\n",
    "print(query)"
   ]
  }
 ],
 "metadata": {
  "kernelspec": {
   "display_name": "Python 3",
   "language": "python",
   "name": "python3"
  },
  "language_info": {
   "codemirror_mode": {
    "name": "ipython",
    "version": 3
   },
   "file_extension": ".py",
   "mimetype": "text/x-python",
   "name": "python",
   "nbconvert_exporter": "python",
   "pygments_lexer": "ipython3",
   "version": "3.7.7"
  }
 },
 "nbformat": 4,
 "nbformat_minor": 4
}
